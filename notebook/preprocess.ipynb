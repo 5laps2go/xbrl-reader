{
  "nbformat": 4,
  "nbformat_minor": 0,
  "metadata": {
    "colab": {
      "name": "preprocess.ipynb",
      "provenance": [],
      "collapsed_sections": [],
      "toc_visible": true,
      "machine_shape": "hm",
      "authorship_tag": "ABX9TyOiDiEQc8zRRaI2SfP9xbby",
      "include_colab_link": true
    },
    "kernelspec": {
      "name": "python3",
      "display_name": "Python 3"
    }
  },
  "cells": [
    {
      "cell_type": "markdown",
      "metadata": {
        "id": "view-in-github",
        "colab_type": "text"
      },
      "source": [
        "<a href=\"https://colab.research.google.com/github/teatime77/xbrl-reader/blob/master/notebook/preprocess.ipynb\" target=\"_parent\"><img src=\"https://colab.research.google.com/assets/colab-badge.svg\" alt=\"Open In Colab\"/></a>"
      ]
    },
    {
      "cell_type": "markdown",
      "metadata": {
        "id": "i5nu58R4uH2w",
        "colab_type": "text"
      },
      "source": [
        "### データをダウンロードします。"
      ]
    },
    {
      "cell_type": "code",
      "metadata": {
        "id": "VEqLb0orB7ca",
        "colab_type": "code",
        "colab": {}
      },
      "source": [
        "! wget http://lkzf.info/xbrl/data/2020-04-08/summary-0.csv\n",
        "! wget http://lkzf.info/xbrl/data/2020-04-08/summary-1.csv\n",
        "! wget http://lkzf.info/xbrl/data/2020-04-08/summary-2.csv"
      ],
      "execution_count": 0,
      "outputs": []
    },
    {
      "cell_type": "markdown",
      "metadata": {
        "id": "jz4kD7tlSTvV",
        "colab_type": "text"
      },
      "source": [
        "##### 会社情報をダウンロードします。"
      ]
    },
    {
      "cell_type": "code",
      "metadata": {
        "id": "efze9FkvSWNx",
        "colab_type": "code",
        "colab": {}
      },
      "source": [
        "! wget http://lkzf.info/xbrl/data/EdinetcodeDlInfo.csv"
      ],
      "execution_count": 0,
      "outputs": []
    },
    {
      "cell_type": "markdown",
      "metadata": {
        "id": "91QGOAdaP1ot",
        "colab_type": "text"
      },
      "source": [
        "#### <font color=\"red\">以下の中から予測したい項目のコメントをはずしてください。</font>"
      ]
    },
    {
      "cell_type": "code",
      "metadata": {
        "id": "-gHGlhi7RVlH",
        "colab_type": "code",
        "colab": {}
      },
      "source": [
        "target = '売上高'\n",
        "# target = '営業利益'\n",
        "# target = '経常利益'\n",
        "# target = '税引前純利益'"
      ],
      "execution_count": 0,
      "outputs": []
    },
    {
      "cell_type": "markdown",
      "metadata": {
        "id": "PiTQqTsunzRu",
        "colab_type": "text"
      },
      "source": [
        "### 必要なライブラリをインポートします。"
      ]
    },
    {
      "cell_type": "code",
      "metadata": {
        "id": "7AQVPohPn0Sm",
        "colab_type": "code",
        "colab": {}
      },
      "source": [
        "import pandas as pd\n",
        "import numpy as np"
      ],
      "execution_count": 0,
      "outputs": []
    },
    {
      "cell_type": "markdown",
      "metadata": {
        "id": "ejKX1APCuXFr",
        "colab_type": "text"
      },
      "source": [
        "### CSVファイルの読み込みの関数"
      ]
    },
    {
      "cell_type": "code",
      "metadata": {
        "id": "Ojm9RUWMU387",
        "colab_type": "code",
        "colab": {}
      },
      "source": [
        "def my_read_csv(filename, date_columns=[]):\n",
        "    \"\"\" How to force pandas read_csv to use float32 for all float columns?\n",
        "    https://stackoverflow.com/questions/30494569/how-to-force-pandas-read-csv-to-use-float32-for-all-float-columns\n",
        "    \"\"\"\n",
        "\n",
        "    # 最初の100行のみ試しに読んでみる。\n",
        "    df_test = pd.read_csv(filename, nrows=100, parse_dates=date_columns)\n",
        "\n",
        "    # float64の列の名前\n",
        "    float_cols = [c for c in df_test if df_test[c].dtype == \"float64\"]\n",
        "\n",
        "    # 型をfloat32として宣言する。\n",
        "    float32_cols = {c: np.float32 for c in float_cols}\n",
        "\n",
        "    # 型の宣言を使ってCSVファイルを読み直す。\n",
        "    return pd.read_csv(filename, engine='c', dtype=float32_cols, parse_dates=date_columns)"
      ],
      "execution_count": 0,
      "outputs": []
    },
    {
      "cell_type": "markdown",
      "metadata": {
        "id": "13sfOLshQl9O",
        "colab_type": "text"
      },
      "source": [
        "### 決算書のCSVファイルを読み込みます。"
      ]
    },
    {
      "cell_type": "code",
      "metadata": {
        "id": "piryLNow_nrG",
        "colab_type": "code",
        "colab": {}
      },
      "source": [
        "print(\"read 提出日時点 ...\")\n",
        "df提出日時点 = my_read_csv(\"summary-0.csv\", [ '会計期間終了日' ])\n",
        "print(\"read 時点 ...\")\n",
        "df時点 = my_read_csv(\"summary-1.csv\")\n",
        "print(\"read 期間 ...\")\n",
        "df期間 = my_read_csv(\"summary-2.csv\")"
      ],
      "execution_count": 0,
      "outputs": []
    },
    {
      "cell_type": "markdown",
      "metadata": {
        "id": "-T8ERCnFR0-Q",
        "colab_type": "text"
      },
      "source": [
        "### 有価証券報告書のみを抜き出します。"
      ]
    },
    {
      "cell_type": "code",
      "metadata": {
        "id": "aV_eV-ixPrwR",
        "colab_type": "code",
        "colab": {}
      },
      "source": [
        "df提出日時点 = df提出日時点[ df提出日時点['報告書略号'] == \"asr\" ]\n",
        "df時点       = df時点[ df時点['報告書略号'] == \"asr\" ]\n",
        "df期間       = df期間[ df期間['報告書略号'] == \"asr\" ]\n",
        "\n",
        "for tbl in [ df提出日時点, df時点, df期間 ]:\n",
        "    tbl.drop('報告書略号', axis=1, inplace=True)"
      ],
      "execution_count": 0,
      "outputs": []
    },
    {
      "cell_type": "markdown",
      "metadata": {
        "id": "RsvYjIBdeWF6",
        "colab_type": "text"
      },
      "source": [
        "### df時点とdf期間の列で、df提出日時点の列と重複があれば取り除きます。"
      ]
    },
    {
      "cell_type": "code",
      "metadata": {
        "id": "c8wAFGXbtz9o",
        "colab_type": "code",
        "colab": {}
      },
      "source": [
        "除外columns = ['index', 'EDINETコード', '会計期間終了日', 'コンテキスト' ]\n",
        "\n",
        "for tbl in [ df時点, df期間 ]:\n",
        "    \n",
        "    # 重複する列の名前のリスト\n",
        "    dup_columns = [x for x in tbl.columns if x in df提出日時点 and not x in 除外columns]\n",
        "\n",
        "    if len(dup_columns) != 0:\n",
        "        # 重複がある場合\n",
        "\n",
        "        print(\"重複\", dup_columns)\n",
        "        tbl.drop(dup_columns, axis=1, inplace=True)"
      ],
      "execution_count": 0,
      "outputs": []
    },
    {
      "cell_type": "markdown",
      "metadata": {
        "id": "RDocavgbYeAH",
        "colab_type": "text"
      },
      "source": [
        "### df時点とdf期間で同じ名前の列があれば、名前に「-時点」や「-期間」を付加します。"
      ]
    },
    {
      "cell_type": "code",
      "metadata": {
        "id": "zmHAxchDbqTr",
        "colab_type": "code",
        "colab": {}
      },
      "source": [
        "v = [x for x in df時点.columns if not x in 除外columns]\n",
        "for name in v:\n",
        "    if name in df期間.columns:\n",
        "        print('%d %d %s' % (df時点[name].notnull().sum(), df期間[name].notnull().sum(), name))\n",
        "        df時点.rename(columns={ name: name+'-時点' }, errors='raise', inplace=True)                    \n",
        "        df期間.rename(columns={ name: name+'-期間' }, errors='raise', inplace=True)"
      ],
      "execution_count": 0,
      "outputs": []
    },
    {
      "cell_type": "markdown",
      "metadata": {
        "id": "p2FSFfp0T9Al",
        "colab_type": "text"
      },
      "source": [
        "### 内容が同じで名前が違う2つの列を1つに統合します。"
      ]
    },
    {
      "cell_type": "code",
      "metadata": {
        "id": "LVZs65UjreVG",
        "colab_type": "code",
        "colab": {}
      },
      "source": [
        "def unify_columns(tbl, alias, name):\n",
        "    diff = 0\n",
        "\n",
        "    # 別名と本名の列のそれぞれの値に対し\n",
        "    for idx, (alias_val, val) in enumerate(zip(tbl[alias], tbl[name])):\n",
        "        if not alias_val is None:\n",
        "            # 別名の値がある場合\n",
        "\n",
        "            if val is None:\n",
        "                # 本名の値がない場合\n",
        "\n",
        "                # 別名の値を本名の値とする。\n",
        "                tbl[name].iloc[idx] = alias_val\n",
        "            else:\n",
        "                # 本名の値がある場合\n",
        "\n",
        "                if val != 0:\n",
        "\n",
        "                    # 別名と本名の値の違いを調べる。\n",
        "                    diff = max(diff, abs((alias_val - val)/val) )\n",
        "\n",
        "    print('%.5f %s' % (diff, alias))"
      ],
      "execution_count": 0,
      "outputs": []
    },
    {
      "cell_type": "code",
      "metadata": {
        "id": "yPm2SJkfUBt8",
        "colab_type": "code",
        "colab": {}
      },
      "source": [
        "for suffix in [ '（IFRS）', '、経営指標等', '（平成26年3月28日財規等改正後）', '又は売上総損失（△）' ]:\n",
        "    for tbl in [df時点, df期間]:\n",
        "        drop_names = []\n",
        "        for name in tbl.columns:\n",
        "            \n",
        "            if  suffix in name:\n",
        "                # 名前に接尾辞が含まれる場合\n",
        "\n",
        "                # 名前から接尾辞を取り除く。\n",
        "                short_name = name.replace(suffix, '')\n",
        "                \n",
        "                if short_name in tbl.columns:\n",
        "                    # 短い名前の列がある場合\n",
        "\n",
        "                    # 短い名前の列に統合する。\n",
        "                    unify_columns(tbl, name, short_name)\n",
        "\n",
        "                    # 長い名前の列は削除する。\n",
        "                    drop_names.append(name)\n",
        "\n",
        "                else:\n",
        "                    # 短い名前の列がない場合\n",
        "\n",
        "                    if suffix != '（IFRS）':\n",
        "\n",
        "                        # 長い名前を短い名前に変える。\n",
        "                        print('短縮 : %s -> %s' % (name, short_name))\n",
        "                        tbl.rename(columns={ name:short_name }, errors='raise', inplace=True)                    \n",
        "\n",
        "        # 長い名前の列を削除する。\n",
        "        tbl.drop(drop_names, axis=1, inplace=True)"
      ],
      "execution_count": 0,
      "outputs": []
    },
    {
      "cell_type": "markdown",
      "metadata": {
        "id": "TRA3dCR7tqJw",
        "colab_type": "text"
      },
      "source": [
        "### 長い項目名を短くします。"
      ]
    },
    {
      "cell_type": "code",
      "metadata": {
        "id": "L_1SloWuPSk9",
        "colab_type": "code",
        "colab": {}
      },
      "source": [
        "df期間.columns"
      ],
      "execution_count": 0,
      "outputs": []
    },
    {
      "cell_type": "code",
      "metadata": {
        "id": "e5r9VzaotpYc",
        "colab_type": "code",
        "colab": {}
      },
      "source": [
        "df時点 = df時点.rename(columns={ \n",
        "    '１株当たり純資産額': '１株当たり純資産',\n",
        "    '平均年齢（年）'    : '平均年齢',\n",
        "    '平均勤続年数（年）': '平均勤続年数',\n",
        "})\n",
        "\n",
        "df期間 = df期間.rename(columns={ \n",
        "    # '売上総利益又は売上総損失（△）'            :'売上総利益', \n",
        "    '経常利益又は経常損失（△）'                : '経常利益', \n",
        "    '営業利益又は営業損失（△）'                : '営業利益',\n",
        "    '当期純利益又は当期純損失（△）'            :'純利益', \n",
        "    '税引前当期純利益又は税引前当期純損失（△）':'税引前純利益', \n",
        "    '１株当たり当期純利益又は当期純損失（△）'  :'１株当たり純利益',\n",
        "    '親会社株主に帰属する当期純利益又は親会社株主に帰属する当期純損失（△）': '親会社株主に帰属する純利益',\n",
        "    '潜在株式調整後1株当たり当期純利益'         :'調整1株当たり純利益',\n",
        "    '現金及び現金同等物の増減額（△は減少）'    :'現金及び現金同等物の増減' \n",
        "}, errors='raise')"
      ],
      "execution_count": 0,
      "outputs": []
    },
    {
      "cell_type": "markdown",
      "metadata": {
        "id": "MOreHUTFSFgH",
        "colab_type": "text"
      },
      "source": [
        "### コンテキストごとに分離します。"
      ]
    },
    {
      "cell_type": "code",
      "metadata": {
        "id": "d9FncI13ITDb",
        "colab_type": "code",
        "colab": {}
      },
      "source": [
        "df提出日時点 = df提出日時点.set_index(['EDINETコード', '会計期間終了日'])\n",
        "\n",
        "tbls = []\n",
        "for tbl, ctx in [ [df時点, '当期連結時点'], [df時点, '当期個別時点'], [df時点, '前期連結時点'], [df時点, '前期個別時点'], \\\n",
        "                  [df期間, '当期連結期間'], [df期間, '当期個別期間'], [df期間, '前期連結期間'], [df期間, '前期個別期間'] ]:\n",
        "\n",
        "    tmp = tbl[tbl['コンテキスト'] == ctx]\n",
        "    \n",
        "    tmp = tmp.set_index(['EDINETコード', '会計期間終了日'])\n",
        "    \n",
        "    tmp = tmp.drop('コンテキスト', axis=1)\n",
        "\n",
        "    tbls.append(tmp)\n",
        "\n",
        "df当期連結時点, df当期個別時点, df前期連結時点, df前期個別時点, df当期連結期間, df当期個別期間, df前期連結期間, df前期個別期間 = tbls\n",
        "\n",
        "assert len(df提出日時点) == len(df当期連結時点) == len(df当期個別時点) == len(df当期連結期間) == len(df当期個別期間) == len(df前期連結時点) == len(df前期個別時点) == len(df前期連結期間) == len(df前期個別期間)"
      ],
      "execution_count": 0,
      "outputs": []
    },
    {
      "cell_type": "markdown",
      "metadata": {
        "id": "qzRnHVTYudYG",
        "colab_type": "text"
      },
      "source": [
        "### 会計終了時点と会計期間の表を連結します。"
      ]
    },
    {
      "cell_type": "code",
      "metadata": {
        "id": "ykk6987Ca-8v",
        "colab_type": "code",
        "colab": {}
      },
      "source": [
        "df当期連結 = pd.concat([ df当期連結時点, df当期連結期間 ], axis=1)\n",
        "df当期個別 = pd.concat([ df当期個別時点, df当期個別期間 ], axis=1)\n",
        "df前期連結 = pd.concat([ df前期連結時点, df前期連結期間 ], axis=1)\n",
        "df前期個別 = pd.concat([ df前期個別時点, df前期個別期間 ], axis=1)\n",
        "\n",
        "assert len(df当期連結) == len(df当期連結時点)  == len(df当期連結期間) == len(df当期個別) == len(df当期個別時点)  == len(df当期個別期間)\n",
        "assert len(df前期連結) == len(df前期連結時点)  == len(df前期連結期間) == len(df前期個別) == len(df前期個別時点)  == len(df前期個別期間)\n",
        "\n",
        "assert list(df当期連結.columns) == list(df当期個別.columns) == list(df前期連結.columns) == list(df前期個別.columns)"
      ],
      "execution_count": 0,
      "outputs": []
    },
    {
      "cell_type": "code",
      "metadata": {
        "id": "4LFXHiwNGql_",
        "colab_type": "code",
        "colab": {}
      },
      "source": [
        "column_cnts = df当期連結.notnull().sum().items()\n",
        "sorted_column_cnts = sorted(column_cnts, key=lambda x: x[1], reverse=True)\n",
        "\n",
        "sorted_columns = [x[0] for x in sorted_column_cnts]\n",
        "\n",
        "list(enumerate(sorted_column_cnts[:200]))"
      ],
      "execution_count": 0,
      "outputs": []
    },
    {
      "cell_type": "markdown",
      "metadata": {
        "id": "KUps6F-6tdPc",
        "colab_type": "text"
      },
      "source": [
        "### 期首期末平均資産を計算します。"
      ]
    },
    {
      "cell_type": "code",
      "metadata": {
        "id": "ZCJhgmWy9NRm",
        "colab_type": "code",
        "colab": {}
      },
      "source": [
        "def set_assets_mean(tbl):\n",
        "    # 期首期末平均資産\n",
        "    mean_assets = np.ndarray(shape=(len(tbl),), dtype=np.float32)\n",
        "\n",
        "    # EDINETコード\n",
        "    edinet_codes = tbl.index.map(lambda x: x[0])\n",
        "    \n",
        "    prev_code = None\n",
        "    prev_value = None\n",
        "\n",
        "    # EDINETコードと資産に対し\n",
        "    for i, [code, value] in enumerate(zip(edinet_codes, tbl['資産'])):\n",
        "        if prev_code != code:\n",
        "            # 会社の最初の場合\n",
        "\n",
        "            # 前期がないので今期の資産を期首期末平均資産とする。\n",
        "            mean_assets[i] = value\n",
        "\n",
        "            prev_code = code\n",
        "        else:\n",
        "            # 会社の最初でない場合\n",
        "\n",
        "            # 前期と今期の平均の資産を期首期末平均資産とする。\n",
        "            mean_assets[i] = (prev_value + value) / 2\n",
        "\n",
        "        # 前期の資産\n",
        "        prev_value = value\n",
        "\n",
        "    tbl['期首期末平均資産'] = mean_assets\n",
        "\n",
        "for tbl in [ df当期連結, df当期個別, df前期連結, df前期個別 ]:\n",
        "    set_assets_mean(tbl)"
      ],
      "execution_count": 0,
      "outputs": []
    },
    {
      "cell_type": "markdown",
      "metadata": {
        "id": "N6egP2yOR5uA",
        "colab_type": "text"
      },
      "source": [
        "### 財務指標を計算します。"
      ]
    },
    {
      "cell_type": "code",
      "metadata": {
        "id": "gvtx808kR73y",
        "colab_type": "code",
        "colab": {}
      },
      "source": [
        "for tbl in [ df当期連結, df当期個別, df前期連結, df前期個別 ]:\n",
        "    tbl['粗利益'] = tbl['売上高'] - tbl['売上原価']\n",
        "\n",
        "    tbl['売上高総利益率']   = tbl['粗利益']   / tbl['売上高']\n",
        "    tbl['売上高営業利益率'] = tbl['営業利益'] / tbl['売上高']\n",
        "    tbl['売上高経常利益率'] = tbl['経常利益'] / tbl['売上高']\n",
        "\n",
        "    tbl['売上高販管費率']   = tbl['販売費及び一般管理費'] / tbl['売上高']\n",
        "\n",
        "    tbl['総資本回転率']     = tbl['売上高'] / tbl['資産']\n",
        "    tbl['流動比率']         = tbl['流動資産'] / tbl['流動負債']\n",
        "\n",
        "    tbl['総資産経常利益率'] = tbl['経常利益'] / tbl['期首期末平均資産']\n",
        "\n",
        "    tbl['総資産純利益率']   = tbl['純利益']   / tbl['期首期末平均資産']\n",
        "\n",
        "    tbl['総資産親会社株主に帰属する純利益率']   = tbl['親会社株主に帰属する純利益'] / tbl['期首期末平均資産']\n",
        "\n",
        "    tbl['自己資本'] = tbl['株主資本'].fillna(0) + tbl['評価・換算差額等'].fillna(0)\n",
        "\n",
        "    tbl['有利子負債'] = tbl['短期借入金'].fillna(0) + tbl['1年内返済予定の長期借入金'].fillna(0) + tbl['1年内償還予定の社債'].fillna(0) + tbl['長期借入金'].fillna(0) \\\n",
        "        + tbl['社債'].fillna(0) + tbl['転換社債型新株予約権付社債'].fillna(0) + tbl['コマーシャル・ペーパー'].fillna(0)\n",
        "\n",
        "    tbl['負債比率'] = tbl['負債'] / tbl['自己資本']\n",
        "    tbl['有利子負債比率'] = tbl['有利子負債']  / tbl['自己資本']"
      ],
      "execution_count": 0,
      "outputs": []
    },
    {
      "cell_type": "markdown",
      "metadata": {
        "id": "ilXY6hxExi3N",
        "colab_type": "text"
      },
      "source": [
        "### 前期の列名に「前期」の接頭語を付けます。"
      ]
    },
    {
      "cell_type": "code",
      "metadata": {
        "id": "_R6jUgxxxrGT",
        "colab_type": "code",
        "colab": {}
      },
      "source": [
        "for tbl in [ df前期連結, df前期個別 ]:\n",
        "    tbl.rename(columns=dict((x, '前期' + x) for x in tbl.columns), inplace=True)"
      ],
      "execution_count": 0,
      "outputs": []
    },
    {
      "cell_type": "markdown",
      "metadata": {
        "id": "f1tj_fVPysNU",
        "colab_type": "text"
      },
      "source": [
        "### 連結と個別のそれぞれの当期と前期の表を連結します。"
      ]
    },
    {
      "cell_type": "code",
      "metadata": {
        "id": "Wdz1C5IgyxXu",
        "colab_type": "code",
        "colab": {}
      },
      "source": [
        "df連結 = pd.concat([ df当期連結, df前期連結 ], axis=1)\n",
        "df個別 = pd.concat([ df当期個別, df前期個別 ], axis=1)\n",
        "\n",
        "assert len(df連結) == len(df当期連結) == len(df前期連結) == len(df個別) == len(df当期個別) == len(df前期個別)"
      ],
      "execution_count": 0,
      "outputs": []
    },
    {
      "cell_type": "markdown",
      "metadata": {
        "id": "doahVCuPSB7U",
        "colab_type": "text"
      },
      "source": [
        "### 当期の列名のリストを得ます。"
      ]
    },
    {
      "cell_type": "code",
      "metadata": {
        "id": "zr4vA0fW4Cs6",
        "colab_type": "code",
        "colab": {}
      },
      "source": [
        "assert list(df当期連結.columns) == list(df当期個別.columns)\n",
        "\n",
        "num_columns = list(df当期連結.columns)\n",
        "\n",
        "# 列名の重複がないことを確認\n",
        "assert len(num_columns) == len(set(num_columns))"
      ],
      "execution_count": 0,
      "outputs": []
    },
    {
      "cell_type": "markdown",
      "metadata": {
        "id": "T8B9YEjQTmKF",
        "colab_type": "text"
      },
      "source": [
        "### 前期から当期への変化率を計算します。"
      ]
    },
    {
      "cell_type": "code",
      "metadata": {
        "id": "QSA4DBf9IBsx",
        "colab_type": "code",
        "colab": {}
      },
      "source": [
        "for tbl in [ df連結, df個別 ]:\n",
        "    for title in num_columns:\n",
        "        tbl[title + '変化率'] = (tbl[title] - tbl['前期' + title]) / tbl['前期' + title]"
      ],
      "execution_count": 0,
      "outputs": []
    },
    {
      "cell_type": "markdown",
      "metadata": {
        "id": "S6rfYpbSTwjP",
        "colab_type": "text"
      },
      "source": [
        "### 前期のデータは以降で使わないので削除します。"
      ]
    },
    {
      "cell_type": "code",
      "metadata": {
        "id": "LT0X_XOsHu1o",
        "colab_type": "code",
        "colab": {}
      },
      "source": [
        "drop_columns = ['前期' + x for x in num_columns]\n",
        "\n",
        "df連結 = df連結.drop(drop_columns, axis=1)\n",
        "df個別 = df個別.drop(drop_columns, axis=1)\n"
      ],
      "execution_count": 0,
      "outputs": []
    },
    {
      "cell_type": "markdown",
      "metadata": {
        "id": "WLdSVGNlS1H_",
        "colab_type": "text"
      },
      "source": [
        "### 個別の列名に「個別」の接頭語を付けます。"
      ]
    },
    {
      "cell_type": "code",
      "metadata": {
        "id": "Mvf_KO_9Sw6F",
        "colab_type": "code",
        "colab": {}
      },
      "source": [
        "df個別.rename(columns=dict((x, '個別' + x) for x in df個別.columns), inplace=True)"
      ],
      "execution_count": 0,
      "outputs": []
    },
    {
      "cell_type": "markdown",
      "metadata": {
        "id": "2L4yFK6DTGBG",
        "colab_type": "text"
      },
      "source": [
        "### 連結と個別のデータを１つにまとめます。"
      ]
    },
    {
      "cell_type": "code",
      "metadata": {
        "id": "giJVKj3MdR_A",
        "colab_type": "code",
        "colab": {}
      },
      "source": [
        "df = pd.concat([ df連結, df個別 ], axis=1)\n",
        "\n",
        "assert len(df) == len(df提出日時点)\n",
        "\n",
        "# 列名の重複がないことを確認します。\n",
        "assert len(df.columns) == len(set(df.columns))"
      ],
      "execution_count": 0,
      "outputs": []
    },
    {
      "cell_type": "markdown",
      "metadata": {
        "id": "Fwxi6O8YLV5F",
        "colab_type": "text"
      },
      "source": [
        "#### 次期変化率を計算します。"
      ]
    },
    {
      "cell_type": "code",
      "metadata": {
        "id": "ZqMrYvD_BKgO",
        "colab_type": "code",
        "colab": {}
      },
      "source": [
        "# 予測する列の名前\n",
        "y_column = target + '次期変化率'\n",
        "\n",
        "# 次期変化率の配列をNaNで初期化します。\n",
        "change_rate = np.array([np.nan] * len(df), dtype=np.float32)\n",
        "\n",
        "# EDINETコード\n",
        "edinet_codes = df.index.map(lambda x: x[0])\n",
        "\n",
        "# 直前のEDINETコード\n",
        "prev_code = None\n",
        "\n",
        "# 直前の値\n",
        "prev_value = None\n",
        "\n",
        "for i, [code, value] in enumerate(zip(edinet_codes, df[target])):\n",
        "    if prev_code != code:\n",
        "        # 会社が変わった場合\n",
        "\n",
        "        prev_code = code\n",
        "    else:\n",
        "        # 会社が同じ場合\n",
        "\n",
        "        if prev_value != 0:\n",
        "            # 直前の値が0でない場合\n",
        "\n",
        "            # 次期変化率を計算します。\n",
        "            change_rate[i - 1] = (value - prev_value) / prev_value\n",
        "\n",
        "    prev_value = value\n",
        "\n",
        "df[y_column] = change_rate"
      ],
      "execution_count": 0,
      "outputs": []
    },
    {
      "cell_type": "markdown",
      "metadata": {
        "id": "36cB16JY8rBm",
        "colab_type": "text"
      },
      "source": [
        "### 次期変化率が欠損値の行を削除します。"
      ]
    },
    {
      "cell_type": "code",
      "metadata": {
        "id": "Ko81Mqnv8vAY",
        "colab_type": "code",
        "colab": {}
      },
      "source": [
        "df = df.dropna(subset=[y_column])"
      ],
      "execution_count": 0,
      "outputs": []
    },
    {
      "cell_type": "markdown",
      "metadata": {
        "id": "E-99jDEphioA",
        "colab_type": "text"
      },
      "source": [
        "### 比率以外の列は財務分析に使わないので削除します。"
      ]
    },
    {
      "cell_type": "code",
      "metadata": {
        "id": "H7c31yLThrQi",
        "colab_type": "code",
        "colab": {}
      },
      "source": [
        "df = df.drop([x for x in df.columns if not x.endswith('率')], axis=1)"
      ],
      "execution_count": 0,
      "outputs": []
    },
    {
      "cell_type": "markdown",
      "metadata": {
        "id": "Gd8sqlArU1K4",
        "colab_type": "text"
      },
      "source": [
        "### 会社情報をセットします。"
      ]
    },
    {
      "cell_type": "markdown",
      "metadata": {
        "id": "8JLWPeScSYdW",
        "colab_type": "text"
      },
      "source": [
        "#### 会社情報のCSVを読み込みます。"
      ]
    },
    {
      "cell_type": "code",
      "metadata": {
        "id": "Jk-h7dYRSab3",
        "colab_type": "code",
        "colab": {}
      },
      "source": [
        "df会社 = pd.read_csv(\"EdinetcodeDlInfo.csv\", encoding='cp932', skiprows=[0])\n",
        "df会社 = df会社.set_index('ＥＤＩＮＥＴコード')"
      ],
      "execution_count": 0,
      "outputs": []
    },
    {
      "cell_type": "markdown",
      "metadata": {
        "id": "UdiZJXGNScT_",
        "colab_type": "text"
      },
      "source": [
        "#### 会社名から \"株式会社\" を取り除きます。"
      ]
    },
    {
      "cell_type": "code",
      "metadata": {
        "id": "Gz86b2zNSgPH",
        "colab_type": "code",
        "colab": {}
      },
      "source": [
        "df会社['提出者名'] = df会社['提出者名'].apply(lambda x: x.replace('株式会社', '').strip())"
      ],
      "execution_count": 0,
      "outputs": []
    },
    {
      "cell_type": "markdown",
      "metadata": {
        "id": "saU8pKN3Si0t",
        "colab_type": "text"
      },
      "source": [
        "#### 会社名と業種をセットします。"
      ]
    },
    {
      "cell_type": "code",
      "metadata": {
        "id": "V01-QmfKSk99",
        "colab_type": "code",
        "colab": {}
      },
      "source": [
        "edinet_codes = df.index.map(lambda x: x[0])\n",
        "df['会社名']  = edinet_codes.map(lambda x: df会社.loc[x]['提出者名'])\n",
        "df['業種']    = edinet_codes.map(lambda x: df会社.loc[x]['提出者業種'])"
      ],
      "execution_count": 0,
      "outputs": []
    },
    {
      "cell_type": "code",
      "metadata": {
        "id": "7gRHzczJ0TX6",
        "colab_type": "code",
        "colab": {}
      },
      "source": [
        "df = df.reset_index()\n",
        "df = df.set_index(['EDINETコード', '会社名', '会計期間終了日'])"
      ],
      "execution_count": 0,
      "outputs": []
    },
    {
      "cell_type": "markdown",
      "metadata": {
        "id": "E4HRpfd2kuiY",
        "colab_type": "text"
      },
      "source": [
        "## 出現頻度が高い列を残します。"
      ]
    },
    {
      "cell_type": "markdown",
      "metadata": {
        "id": "riZAsS4RCiWo",
        "colab_type": "text"
      },
      "source": [
        "### 出現頻度の高い順に列名を並べます。"
      ]
    },
    {
      "cell_type": "code",
      "metadata": {
        "id": "Tirw9rBUCtMf",
        "colab_type": "code",
        "colab": {}
      },
      "source": [
        "# 有効値が多い列を得ます。\n",
        "column_cnts = df.notnull().sum().items()\n",
        "freq_column_cnts = sorted(column_cnts, key=lambda x: x[1], reverse=True)\n",
        "\n",
        "list(enumerate(freq_column_cnts[:10]))"
      ],
      "execution_count": 0,
      "outputs": []
    },
    {
      "cell_type": "markdown",
      "metadata": {
        "id": "34fq9Q1z9L13",
        "colab_type": "text"
      },
      "source": [
        "### 出現頻度の低い列は削除します。"
      ]
    },
    {
      "cell_type": "code",
      "metadata": {
        "id": "Q5a1iLRo9Src",
        "colab_type": "code",
        "colab": {}
      },
      "source": [
        "drop_names = [x[0] for x in freq_column_cnts][200:]\n",
        "df = df.drop(drop_names, axis=1)"
      ],
      "execution_count": 0,
      "outputs": []
    },
    {
      "cell_type": "markdown",
      "metadata": {
        "id": "2FQbRmtDkkLy",
        "colab_type": "text"
      },
      "source": [
        "## データを正規化します。"
      ]
    },
    {
      "cell_type": "markdown",
      "metadata": {
        "id": "_9Dt05wXFWbf",
        "colab_type": "text"
      },
      "source": [
        "### 無限大はNaNに置換します。"
      ]
    },
    {
      "cell_type": "code",
      "metadata": {
        "id": "rOR2bGtYFbci",
        "colab_type": "code",
        "colab": {}
      },
      "source": [
        "for name in [x for x in df.columns if x != '業種']:\n",
        "    df[name] = df[name].replace([np.inf, -np.inf], np.nan)"
      ],
      "execution_count": 0,
      "outputs": []
    },
    {
      "cell_type": "markdown",
      "metadata": {
        "id": "I3Gb7ZYRAETu",
        "colab_type": "text"
      },
      "source": [
        "### 平均0、標準偏差1に正規化します。\n",
        "### 欠損値は0で置き換えます。"
      ]
    },
    {
      "cell_type": "code",
      "metadata": {
        "id": "13sVXCvBd3az",
        "colab_type": "code",
        "colab": {}
      },
      "source": [
        "def norm(v):\n",
        "    # 平均\n",
        "    mean = v.mean()\n",
        "\n",
        "    # 標準偏差\n",
        "    std  = v.std()\n",
        "\n",
        "    assert not( np.isnan(mean) or np.isnan(std) or std == 0 )\n",
        "\n",
        "    w = (v - mean) / std\n",
        "\n",
        "    # 欠損値は0で置き換えます。\n",
        "    return w.fillna(0)"
      ],
      "execution_count": 0,
      "outputs": []
    },
    {
      "cell_type": "code",
      "metadata": {
        "id": "Riw8vdFutbQO",
        "colab_type": "code",
        "colab": {}
      },
      "source": [
        "for name in [x for x in df.columns if x != '業種']:\n",
        "    df[name] = norm(df[name])"
      ],
      "execution_count": 0,
      "outputs": []
    },
    {
      "cell_type": "markdown",
      "metadata": {
        "id": "cwoUQFOv82a0",
        "colab_type": "text"
      },
      "source": [
        "### 外れ値をクリップします。"
      ]
    },
    {
      "cell_type": "code",
      "metadata": {
        "id": "EegZwKJ58uBS",
        "colab_type": "code",
        "colab": {}
      },
      "source": [
        "nrow, ncol = (5, 4)\n",
        "\n",
        "names = [x[0] for x in freq_column_cnts if x[0] != '業種']\n",
        "\n",
        "for label in names[: nrow*ncol]:\n",
        "    tmp = df[label]\n",
        "    df[label] = tmp.clip(lower=tmp.quantile(0.05), upper=tmp.quantile(0.95))\n"
      ],
      "execution_count": 0,
      "outputs": []
    },
    {
      "cell_type": "markdown",
      "metadata": {
        "id": "z2NS9Umej6VX",
        "colab_type": "text"
      },
      "source": [
        "## 相関係数が高い列を残します。"
      ]
    },
    {
      "cell_type": "markdown",
      "metadata": {
        "id": "vyuzCkraPmAE",
        "colab_type": "text"
      },
      "source": [
        "### 相関係数を計算します。"
      ]
    },
    {
      "cell_type": "code",
      "metadata": {
        "id": "SkLVpR2YPq0C",
        "colab_type": "code",
        "colab": {}
      },
      "source": [
        "name_corrs = [ [name, np.corrcoef( np.stack([df[y_column].values, df[name].values]) )[0, 1] ] for name in df.columns if not name in ['業種', y_column] ]\n",
        "\n",
        "# 欠損値は削除します。\n",
        "name_corrs = [ x for x in name_corrs if not np.isnan(x[1])]"
      ],
      "execution_count": 0,
      "outputs": []
    },
    {
      "cell_type": "markdown",
      "metadata": {
        "id": "IxkwfFmAGp9N",
        "colab_type": "text"
      },
      "source": [
        "### 相関係数の絶対値の大きい順にソートします。"
      ]
    },
    {
      "cell_type": "code",
      "metadata": {
        "id": "-azqpN00RWSP",
        "colab_type": "code",
        "colab": {}
      },
      "source": [
        "sorted_name_corrs = sorted(name_corrs, key=lambda x: abs(x[1]), reverse=True)\n",
        "['%d  %.5f %s' % (i, x[1], x[0]) for i, x in enumerate(sorted_name_corrs[:50]) ]"
      ],
      "execution_count": 0,
      "outputs": []
    },
    {
      "cell_type": "markdown",
      "metadata": {
        "id": "FKIRDGed6of8",
        "colab_type": "text"
      },
      "source": [
        "### 相関係数が低い列を削除します。"
      ]
    },
    {
      "cell_type": "markdown",
      "metadata": {
        "id": "oClKguWzkQ-A",
        "colab_type": "text"
      },
      "source": [
        "## 結果を保存します。"
      ]
    },
    {
      "cell_type": "code",
      "metadata": {
        "id": "z1Q7vRM96sPm",
        "colab_type": "code",
        "colab": {}
      },
      "source": [
        "sorted_names = [x[0] for x in sorted_name_corrs]\n",
        "drop_names = sorted_names[50:] \n",
        "df = df.drop(drop_names, axis=1)\n"
      ],
      "execution_count": 0,
      "outputs": []
    },
    {
      "cell_type": "markdown",
      "metadata": {
        "id": "Mhv6FPK8KJVs",
        "colab_type": "text"
      },
      "source": [
        "### 業種をダミー変数に変換します。"
      ]
    },
    {
      "cell_type": "code",
      "metadata": {
        "id": "jPNsP1E5IFtp",
        "colab_type": "code",
        "colab": {}
      },
      "source": [
        "df = pd.get_dummies(df)\n",
        "\n",
        "# '業種'の列がなくなったことを確認\n",
        "assert not '業種' in df.columns"
      ],
      "execution_count": 0,
      "outputs": []
    },
    {
      "cell_type": "markdown",
      "metadata": {
        "id": "X1wJYldbKf7S",
        "colab_type": "text"
      },
      "source": [
        "### pickleでファイルに書きます。"
      ]
    },
    {
      "cell_type": "code",
      "metadata": {
        "id": "Jx3L8D3yJrum",
        "colab_type": "code",
        "colab": {}
      },
      "source": [
        "import pickle\n",
        "\n",
        "data = { 'y_column': y_column, 'data_frame': df  }\n",
        "\n",
        "if   y_column == '売上高次期変化率':\n",
        "    file_name = 'preprocess-uriage.pickle'\n",
        "elif y_column == '営業利益次期変化率':\n",
        "    file_name = 'preprocess-eigyo.pickle'\n",
        "elif y_column == '経常利益次期変化率':\n",
        "    file_name = 'preprocess-keijo.pickle'\n",
        "elif y_column == '税引前純利益次期変化率':\n",
        "    file_name = 'preprocess-jun.pickle'\n",
        "else:\n",
        "    assert False\n",
        "\n",
        "with open(file_name, 'wb') as f:\n",
        "    pickle.dump(data, f)"
      ],
      "execution_count": 0,
      "outputs": []
    },
    {
      "cell_type": "markdown",
      "metadata": {
        "id": "KmUEAB-iKpLA",
        "colab_type": "text"
      },
      "source": [
        "#### <font color=\"red\">パソコンにファイルをダウンロードする場合は以下のコメントをはずしてください。</font>"
      ]
    },
    {
      "cell_type": "code",
      "metadata": {
        "id": "6GrTc5FCKrjV",
        "colab_type": "code",
        "colab": {}
      },
      "source": [
        "# from google.colab import files\n",
        "# from pathlib import Path\n",
        "\n",
        "# # pickleファイルに対し\n",
        "# for path_obj in Path().glob('*.pickle'):\n",
        "#     print(path_obj)\n",
        "\n",
        "#     # ファイルをダウンロードします。\n",
        "#     files.download(str(path_obj))"
      ],
      "execution_count": 0,
      "outputs": []
    }
  ]
}