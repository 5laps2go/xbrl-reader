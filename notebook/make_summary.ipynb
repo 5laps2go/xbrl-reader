{
  "nbformat": 4,
  "nbformat_minor": 0,
  "metadata": {
    "colab": {
      "name": "make_summary.ipynb",
      "provenance": [],
      "collapsed_sections": [],
      "authorship_tag": "ABX9TyNVr5/V7rFGXwuI/EDAVOEE",
      "include_colab_link": true
    },
    "kernelspec": {
      "name": "python3",
      "display_name": "Python 3"
    }
  },
  "cells": [
    {
      "cell_type": "markdown",
      "metadata": {
        "id": "view-in-github",
        "colab_type": "text"
      },
      "source": [
        "<a href=\"https://colab.research.google.com/github/teatime77/xbrl-reader/blob/master/notebook/make_summary.ipynb\" target=\"_parent\"><img src=\"https://colab.research.google.com/assets/colab-badge.svg\" alt=\"Open In Colab\"/></a>"
      ]
    },
    {
      "cell_type": "markdown",
      "metadata": {
        "id": "xIZ5nYryTdwZ",
        "colab_type": "text"
      },
      "source": [
        "# summary-0.csv , summary-1.csv, summary-2.csv の作成処理"
      ]
    },
    {
      "cell_type": "markdown",
      "metadata": {
        "id": "MC1QkhbNTfwn",
        "colab_type": "text"
      },
      "source": [
        "#### XMLファイルのパーサーのライブラリをインストールします。"
      ]
    },
    {
      "cell_type": "code",
      "metadata": {
        "id": "_iGBBS2CTiS-",
        "colab_type": "code",
        "colab": {}
      },
      "source": [
        "! pip install lxml"
      ],
      "execution_count": 0,
      "outputs": []
    },
    {
      "cell_type": "markdown",
      "metadata": {
        "id": "bM2ZvknsTi2u",
        "colab_type": "text"
      },
      "source": [
        "#### アプリをGitHubからクローンしてから、クローンしたフォルダーに移動します。"
      ]
    },
    {
      "cell_type": "code",
      "metadata": {
        "id": "roBrWHE3TjFA",
        "colab_type": "code",
        "colab": {}
      },
      "source": [
        "! git clone https://github.com/teatime77/xbrl-reader.git\n",
        "\n",
        "%cd xbrl-reader"
      ],
      "execution_count": 0,
      "outputs": []
    },
    {
      "cell_type": "markdown",
      "metadata": {
        "id": "Wo2UuwoPTj6Y",
        "colab_type": "text"
      },
      "source": [
        "#### EDINETのタクソノミと会社情報のファイルをダウンロードしてから、解凍します。"
      ]
    },
    {
      "cell_type": "code",
      "metadata": {
        "id": "1FC1VIjRTkGK",
        "colab_type": "code",
        "colab": {}
      },
      "source": [
        "! wget http://lkzf.info/xbrl/data/data-2019-11-01.zip\n",
        "\n",
        "! unzip data-2019-11-01.zip"
      ],
      "execution_count": 0,
      "outputs": []
    },
    {
      "cell_type": "markdown",
      "metadata": {
        "id": "qgIDWkKWTkX_",
        "colab_type": "text"
      },
      "source": [
        "#### XBRLファイルを抜き出したファイルをダウンロードしてから展開します。"
      ]
    },
    {
      "cell_type": "code",
      "metadata": {
        "id": "jzFoqQgVTkjX",
        "colab_type": "code",
        "colab": {}
      },
      "source": [
        "! date\n",
        "%pushd zip/extract\n",
        "! wget http://lkzf.info/xbrl/data/extract/extract-0.tar\n",
        "! wget http://lkzf.info/xbrl/data/extract/extract-1.tar\n",
        "! wget http://lkzf.info/xbrl/data/extract/extract-2.tar\n",
        "! wget http://lkzf.info/xbrl/data/extract/extract-3.tar\n",
        "! wget http://lkzf.info/xbrl/data/extract/extract-4.tar\n",
        "! wget http://lkzf.info/xbrl/data/extract/extract-5.tar\n",
        "! wget http://lkzf.info/xbrl/data/extract/extract-6.tar\n",
        "! wget http://lkzf.info/xbrl/data/extract/extract-7.tar\n",
        "\n",
        "! tar xvf extract-0.tar\n",
        "! tar xvf extract-1.tar\n",
        "! tar xvf extract-2.tar\n",
        "! tar xvf extract-3.tar\n",
        "! tar xvf extract-4.tar\n",
        "! tar xvf extract-5.tar\n",
        "! tar xvf extract-6.tar\n",
        "! tar xvf extract-7.tar\n",
        "%popd\n",
        "! date"
      ],
      "execution_count": 0,
      "outputs": []
    },
    {
      "cell_type": "markdown",
      "metadata": {
        "id": "82B_9Ov_VCZy",
        "colab_type": "text"
      },
      "source": [
        "#### XBRLファイルから summary-0.csv, summary-1.csv, summary-2.csv を作ります。\n",
        "##### !!!! この処理は20分くらいかかります。 !!!"
      ]
    },
    {
      "cell_type": "code",
      "metadata": {
        "id": "kg7U33a_TlDv",
        "colab_type": "code",
        "colab": {}
      },
      "source": [
        "! date\n",
        "! python python/summary.py\n",
        "! date"
      ],
      "execution_count": 0,
      "outputs": []
    },
    {
      "cell_type": "markdown",
      "metadata": {
        "id": "i5nu58R4uH2w",
        "colab_type": "text"
      },
      "source": [
        "# summary-0.csv, summary-1.csv, summary-2.csv と会社情報のファイルから summary-join.csv を作ります。"
      ]
    },
    {
      "cell_type": "markdown",
      "metadata": {
        "id": "13sfOLshQl9O",
        "colab_type": "text"
      },
      "source": [
        "#### summary-0.csv, summary-1.csv, summary-2.csv を Pandasに読み込みます。"
      ]
    },
    {
      "cell_type": "code",
      "metadata": {
        "id": "piryLNow_nrG",
        "colab_type": "code",
        "colab": {}
      },
      "source": [
        "import pandas as pd\n",
        "\n",
        "df提出日時点 = pd.read_csv(\"python/data/summary-0.csv\", parse_dates=[ '提出日', '当事業年度開始日', '当事業年度終了日', '会計期間終了日' ])\n",
        "df時点 = pd.read_csv(\"python/data/summary-1.csv\")\n",
        "df期間 = pd.read_csv(\"python/data/summary-2.csv\")"
      ],
      "execution_count": 0,
      "outputs": []
    },
    {
      "cell_type": "markdown",
      "metadata": {
        "id": "2RpbanOaBMbA",
        "colab_type": "text"
      },
      "source": [
        "#### 長い項目名を短くします。"
      ]
    },
    {
      "cell_type": "code",
      "metadata": {
        "id": "e8nd2k2snLH4",
        "colab_type": "code",
        "colab": {}
      },
      "source": [
        "df時点 = df時点.rename(columns={ \n",
        "    '１株当たり純資産額': '１株当たり純資産',\n",
        "    '平均年齢（年）'    : '平均年齢',\n",
        "    '平均勤続年数（年）': '平均勤続年数',\n",
        "})\n",
        "\n",
        "df期間 = df期間.rename(columns={ \n",
        "    '売上総利益又は売上総損失（△）'            :'売上総利益', \n",
        "    '経常利益又は経常損失（△）'                : '経常利益', \n",
        "    '営業利益又は営業損失（△）'                : '営業利益',\n",
        "    '当期純利益又は当期純損失（△）'            :'純利益', \n",
        "    '税引前当期純利益又は税引前当期純損失（△）':'税引前純利益', \n",
        "    '１株当たり当期純利益又は当期純損失（△）'  :'１株当たり純利益',\n",
        "    '現金及び現金同等物の増減額（△は減少）'    :'現金及び現金同等物の増減' \n",
        "})"
      ],
      "execution_count": 0,
      "outputs": []
    },
    {
      "cell_type": "markdown",
      "metadata": {
        "id": "M6Ms1OtHvvwA",
        "colab_type": "text"
      },
      "source": [
        "#### 有価証券報告書だけ抜き出します。"
      ]
    },
    {
      "cell_type": "code",
      "metadata": {
        "id": "aV_eV-ixPrwR",
        "colab_type": "code",
        "colab": {}
      },
      "source": [
        "df提出日時点 = df提出日時点[ df提出日時点['報告書略号'] == \"asr\" ]\n",
        "df時点       = df時点[ df時点['報告書略号'] == \"asr\" ]\n",
        "df期間       = df期間[ df期間['報告書略号'] == \"asr\" ]\n"
      ],
      "execution_count": 0,
      "outputs": []
    },
    {
      "cell_type": "markdown",
      "metadata": {
        "id": "wVUMna0Ddi_U",
        "colab_type": "text"
      },
      "source": [
        "#### コンテキストごとにデータを抜き出します。"
      ]
    },
    {
      "cell_type": "code",
      "metadata": {
        "id": "d9FncI13ITDb",
        "colab_type": "code",
        "colab": {}
      },
      "source": [
        "df提出日時点 = df提出日時点.reset_index()\n",
        "\n",
        "df当期連結時点 = df時点[df時点['コンテキスト'] == '当期連結時点'].reset_index()\n",
        "df当期個別時点 = df時点[df時点['コンテキスト'] == '当期個別時点'].reset_index()\n",
        "\n",
        "df当期連結期間 = df期間[df期間['コンテキスト'] == '当期連結期間'].reset_index()\n",
        "df当期個別期間 = df期間[df期間['コンテキスト'] == '当期個別期間'].reset_index()\n",
        "\n",
        "df前期連結時点 = df時点[df時点['コンテキスト'] == '前期連結時点'].reset_index()\n",
        "df前期個別時点 = df時点[df時点['コンテキスト'] == '前期個別時点'].reset_index()\n",
        "\n",
        "df前期連結期間 = df期間[df期間['コンテキスト'] == '前期連結期間'].reset_index()\n",
        "df前期個別期間 = df期間[df期間['コンテキスト'] == '前期個別期間'].reset_index()\n",
        "\n",
        "assert len(df提出日時点) == len(df当期連結時点) == len(df当期個別時点) == len(df当期連結期間) == len(df当期個別期間) == len(df前期連結時点) == len(df前期個別時点) == len(df前期連結期間) == len(df前期個別期間)"
      ],
      "execution_count": 0,
      "outputs": []
    },
    {
      "cell_type": "markdown",
      "metadata": {
        "id": "A9lY004Nq4Mn",
        "colab_type": "text"
      },
      "source": [
        "#### 前期の項目名に \"前期\" を付加します。"
      ]
    },
    {
      "cell_type": "code",
      "metadata": {
        "id": "ntL0IUzQOZ__",
        "colab_type": "code",
        "colab": {}
      },
      "source": [
        "df前期連結期間 = df前期連結期間.rename(columns={ '売上高':'前期売上高', '純利益':'前期純利益' })\n",
        "df前期個別期間 = df前期個別期間.rename(columns={ '売上高':'前期売上高', '純利益':'前期純利益' })"
      ],
      "execution_count": 0,
      "outputs": []
    },
    {
      "cell_type": "markdown",
      "metadata": {
        "id": "p2ohmB2qZ0ET",
        "colab_type": "text"
      },
      "source": [
        "#### コンテキストごとに分かれているデータを一つにまとめます。"
      ]
    },
    {
      "cell_type": "code",
      "metadata": {
        "id": "giJVKj3MdR_A",
        "colab_type": "code",
        "colab": {}
      },
      "source": [
        "drop_columns = ['EDINETコード', '会計期間終了日', '報告書略号', 'コンテキスト', '平均年齢', '平均勤続年数', '平均年間給与', 'index' ]\n",
        "\n",
        "df = pd.concat([ \n",
        "    df提出日時点[['EDINETコード', '提出日', '会計期間終了日']], \n",
        "    df当期連結時点[ [x for x in df当期連結時点.columns if x not in drop_columns ] ], \n",
        "    df当期連結期間[ [x for x in df当期連結期間.columns if x not in drop_columns ] ],\n",
        "    df前期連結期間[['前期売上高', '前期純利益']],\n",
        "    df当期個別時点[[ '平均年齢', '平均勤続年数', '平均年間給与']], \n",
        "  ], \n",
        "  axis=1)\n",
        "\n",
        "assert len(df) == len(df提出日時点)"
      ],
      "execution_count": 0,
      "outputs": []
    },
    {
      "cell_type": "markdown",
      "metadata": {
        "id": "uCDEtJdxRXzC",
        "colab_type": "text"
      },
      "source": [
        "#### 財務指標を計算します。"
      ]
    },
    {
      "cell_type": "code",
      "metadata": {
        "id": "S_wEOXpvELmM",
        "colab_type": "code",
        "colab": {}
      },
      "source": [
        "df['粗利益'] = df['売上高'] - df['売上原価']\n",
        "\n",
        "df['売上高総利益率']   = df['粗利益']   / df['売上高']\n",
        "df['売上高営業利益率'] = df['営業利益'] / df['売上高']\n",
        "df['売上高経常利益率'] = df['経常利益'] / df['売上高']\n",
        "\n",
        "df['売上高販管費率'] = df['販売費及び一般管理費'] / df['売上高']\n",
        "\n",
        "df['総資本回転率'] = df['売上高'] / df['資産']\n",
        "df['総資産利益率'] = df['純利益'] / df['資産']\n",
        "df['流動比率']     = df['流動資産'] / df['流動負債']\n",
        "\n",
        "df['売上高変化率'] = (df['売上高'] - df['前期売上高']) / df['前期売上高']\n",
        "df['純利益変化率'] = (df['純利益'] - df['前期純利益']) / df['前期純利益']"
      ],
      "execution_count": 0,
      "outputs": []
    },
    {
      "cell_type": "markdown",
      "metadata": {
        "id": "WSTSQuJRvdvB",
        "colab_type": "text"
      },
      "source": [
        "##### 会社情報をダウンロードします。"
      ]
    },
    {
      "cell_type": "code",
      "metadata": {
        "id": "A2r8Chu6veFz",
        "colab_type": "code",
        "colab": {}
      },
      "source": [
        "! wget http://lkzf.info/xbrl/data/EdinetcodeDlInfo.csv"
      ],
      "execution_count": 0,
      "outputs": []
    },
    {
      "cell_type": "markdown",
      "metadata": {
        "id": "DXgx0yHuvea7",
        "colab_type": "text"
      },
      "source": [
        "#### 会社情報のCSVを読み込みます。"
      ]
    },
    {
      "cell_type": "code",
      "metadata": {
        "id": "ZanGBvCdvfDD",
        "colab_type": "code",
        "colab": {}
      },
      "source": [
        "df会社 = pd.read_csv(\"EdinetcodeDlInfo.csv\", encoding='cp932', skiprows=[0])\n",
        "df会社 = df会社.set_index('ＥＤＩＮＥＴコード')"
      ],
      "execution_count": 0,
      "outputs": []
    },
    {
      "cell_type": "markdown",
      "metadata": {
        "id": "p1vm2fO_wpBa",
        "colab_type": "text"
      },
      "source": [
        "##### 会社名から **株式会社** を取り除きます。"
      ]
    },
    {
      "cell_type": "code",
      "metadata": {
        "id": "2HEJ3gqWwyx-",
        "colab_type": "code",
        "colab": {}
      },
      "source": [
        "df会社['提出者名'] = df会社['提出者名'].apply(lambda x: x.replace('株式会社', '').strip())"
      ],
      "execution_count": 0,
      "outputs": []
    },
    {
      "cell_type": "markdown",
      "metadata": {
        "id": "s6y2rdTnvfXb",
        "colab_type": "text"
      },
      "source": [
        "#### 会社名と業種をセットします。"
      ]
    },
    {
      "cell_type": "code",
      "metadata": {
        "id": "OiA0SZT4vfpU",
        "colab_type": "code",
        "colab": {}
      },
      "source": [
        "df['会社名']  = df['EDINETコード'].map(lambda x: df会社.loc[x]['提出者名'])\n",
        "df['業種']  = df['EDINETコード'].map(lambda x: df会社.loc[x]['提出者業種'])"
      ],
      "execution_count": 0,
      "outputs": []
    },
    {
      "cell_type": "markdown",
      "metadata": {
        "id": "nYc3f77zbZ92",
        "colab_type": "text"
      },
      "source": [
        "#### 結果をCSVファイルに書きます。"
      ]
    },
    {
      "cell_type": "code",
      "metadata": {
        "id": "eT_IS5PRbc6-",
        "colab_type": "code",
        "colab": {}
      },
      "source": [
        "df.to_csv('python/data/summary-join.csv', index=False)"
      ],
      "execution_count": 0,
      "outputs": []
    },
    {
      "cell_type": "markdown",
      "metadata": {
        "id": "NXiJkk10VhrV",
        "colab_type": "text"
      },
      "source": [
        "#### これまでの結果をパソコンにダウンロードします。"
      ]
    },
    {
      "cell_type": "code",
      "metadata": {
        "id": "aS5gpX4oQFlA",
        "colab_type": "code",
        "colab": {}
      },
      "source": [
        "from google.colab import files\n",
        "\n",
        "files.download(\"python/data/summary-0.csv\")\n",
        "files.download(\"python/data/summary-1.csv\")\n",
        "files.download(\"python/data/summary-2.csv\")\n",
        "\n",
        "files.download('python/data/summary-join.csv')\n",
        "\n",
        "files.download(\"python/data/stats.txt\")\n"
      ],
      "execution_count": 0,
      "outputs": []
    }
  ]
}