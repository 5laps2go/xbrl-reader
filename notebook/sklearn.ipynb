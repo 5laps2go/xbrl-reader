{
  "nbformat": 4,
  "nbformat_minor": 0,
  "metadata": {
    "colab": {
      "name": "sklearn.ipynb",
      "provenance": [],
      "collapsed_sections": [],
      "toc_visible": true,
      "authorship_tag": "ABX9TyOlOBdStrhQJVXDUXeENHY4",
      "include_colab_link": true
    },
    "kernelspec": {
      "name": "python3",
      "display_name": "Python 3"
    }
  },
  "cells": [
    {
      "cell_type": "markdown",
      "metadata": {
        "id": "view-in-github",
        "colab_type": "text"
      },
      "source": [
        "<a href=\"https://colab.research.google.com/github/teatime77/xbrl-reader/blob/master/notebook/sklearn.ipynb\" target=\"_parent\"><img src=\"https://colab.research.google.com/assets/colab-badge.svg\" alt=\"Open In Colab\"/></a>"
      ]
    },
    {
      "cell_type": "markdown",
      "metadata": {
        "id": "cStfiXfmt6SU",
        "colab_type": "text"
      },
      "source": [
        "### Matplotlibで日本語が表示できるようにします。"
      ]
    },
    {
      "cell_type": "markdown",
      "metadata": {
        "id": "UG3CIy_xUwge",
        "colab_type": "text"
      },
      "source": [
        "#### IPAフォントをインストールします。"
      ]
    },
    {
      "cell_type": "code",
      "metadata": {
        "id": "-D_YthP1_S8N",
        "colab_type": "code",
        "colab": {}
      },
      "source": [
        "!apt-get -y install fonts-ipafont-gothic"
      ],
      "execution_count": 0,
      "outputs": []
    },
    {
      "cell_type": "markdown",
      "metadata": {
        "id": "y76gwoFlU05Z",
        "colab_type": "text"
      },
      "source": [
        "#### Matplotlibのフォントのキャッシュを再構築します。"
      ]
    },
    {
      "cell_type": "code",
      "metadata": {
        "id": "Ou1qjZNOh0f0",
        "colab_type": "code",
        "colab": {}
      },
      "source": [
        "import matplotlib\n",
        "matplotlib.font_manager._rebuild()"
      ],
      "execution_count": 0,
      "outputs": []
    },
    {
      "cell_type": "markdown",
      "metadata": {
        "id": "c9WESkbwU5FS",
        "colab_type": "text"
      },
      "source": [
        "#### <font color=\"red\">キャッシュの再構築を有効にするために、ここでランタイムを再起動してください。</font>"
      ]
    },
    {
      "cell_type": "markdown",
      "metadata": {
        "id": "91QGOAdaP1ot",
        "colab_type": "text"
      },
      "source": [
        "### <font color=\"red\">以下の中から予測したい項目のコメントをはずしてください。</font>"
      ]
    },
    {
      "cell_type": "code",
      "metadata": {
        "id": "-gHGlhi7RVlH",
        "colab_type": "code",
        "colab": {}
      },
      "source": [
        "target = '売上高'\n",
        "# target = '営業利益'\n",
        "# target = '経常利益'\n",
        "# target = '税引前純利益'"
      ],
      "execution_count": 0,
      "outputs": []
    },
    {
      "cell_type": "markdown",
      "metadata": {
        "id": "_8d-hoWDQQib",
        "colab_type": "text"
      },
      "source": [
        "### <font color=\"red\">グリッドサーチをする場合は、以下の変数の値をTrueにしてください。</font>"
      ]
    },
    {
      "cell_type": "code",
      "metadata": {
        "id": "eGU2MNAHP3ym",
        "colab_type": "code",
        "colab": {}
      },
      "source": [
        "use_grid_search = False"
      ],
      "execution_count": 0,
      "outputs": []
    },
    {
      "cell_type": "markdown",
      "metadata": {
        "id": "pYF2dhoDVk7B",
        "colab_type": "text"
      },
      "source": [
        "### 選択した項目に対応するファイルをダウンロードします。"
      ]
    },
    {
      "cell_type": "code",
      "metadata": {
        "id": "llQBjwDUNNI5",
        "colab_type": "code",
        "colab": {}
      },
      "source": [
        "if   target == '売上高':\n",
        "    ! wget http://lkzf.info/xbrl/data/2020-04-08/preprocess-uriage.pickle\n",
        "\n",
        "elif target == '営業利益':\n",
        "    ! wget http://lkzf.info/xbrl/data/2020-04-08/preprocess-eigyo.pickle\n",
        "\n",
        "elif target == '経常利益':\n",
        "    ! wget http://lkzf.info/xbrl/data/2020-04-08/preprocess-keijo.pickle\n",
        "\n",
        "elif target == '税引前純利益':\n",
        "    ! wget http://lkzf.info/xbrl/data/2020-04-08/preprocess-jun.pickle"
      ],
      "execution_count": 0,
      "outputs": []
    },
    {
      "cell_type": "markdown",
      "metadata": {
        "id": "lrxKMxXptMV6",
        "colab_type": "text"
      },
      "source": [
        "### CatBoostをインストールします。"
      ]
    },
    {
      "cell_type": "code",
      "metadata": {
        "id": "SV6TuOA3H7D1",
        "colab_type": "code",
        "colab": {}
      },
      "source": [
        "! pip install catboost"
      ],
      "execution_count": 0,
      "outputs": []
    },
    {
      "cell_type": "markdown",
      "metadata": {
        "id": "PiTQqTsunzRu",
        "colab_type": "text"
      },
      "source": [
        "### 必要なライブラリをインポートします。"
      ]
    },
    {
      "cell_type": "code",
      "metadata": {
        "id": "7AQVPohPn0Sm",
        "colab_type": "code",
        "colab": {}
      },
      "source": [
        "import matplotlib.pyplot as plt\n",
        "import seaborn as sns\n",
        "import pandas as pd\n",
        "import numpy as np\n",
        "\n",
        "from sklearn.model_selection import train_test_split\n",
        "from sklearn.metrics import mean_squared_error, mean_absolute_error\n",
        "\n",
        "from sklearn.linear_model import Ridge\n",
        "from sklearn.svm import SVR\n",
        "from sklearn.ensemble import RandomForestRegressor\n",
        "from xgboost import XGBRegressor\n",
        "from lightgbm import LGBMRegressor\n",
        "from catboost import CatBoostRegressor\n",
        "\n",
        "sns.set(font='IPAGothic')"
      ],
      "execution_count": 0,
      "outputs": []
    },
    {
      "cell_type": "markdown",
      "metadata": {
        "id": "11X2kfvWNSMU",
        "colab_type": "text"
      },
      "source": [
        "### データを読み込みます。"
      ]
    },
    {
      "cell_type": "code",
      "metadata": {
        "id": "-D9J2Q-2L3E7",
        "colab_type": "code",
        "colab": {}
      },
      "source": [
        "import pickle\n",
        "\n",
        "if   target == '売上高':\n",
        "    file_name = 'preprocess-uriage.pickle'\n",
        "elif target == '営業利益':\n",
        "    file_name = 'preprocess-eigyo.pickle'\n",
        "elif target == '経常利益':\n",
        "    file_name = 'preprocess-keijo.pickle'\n",
        "elif target == '税引前純利益':\n",
        "    file_name = 'preprocess-jun.pickle'\n",
        "else:\n",
        "    assert False\n",
        "\n",
        "with open(file_name, 'rb') as f:\n",
        "    data = pickle.load(f)\n",
        "\n",
        "df = data['data_frame']\n",
        "y_column = data['y_column']"
      ],
      "execution_count": 0,
      "outputs": []
    },
    {
      "cell_type": "markdown",
      "metadata": {
        "id": "mx1uel6gLyNr",
        "colab_type": "text"
      },
      "source": [
        "### トレーニングデータとテストデータに分けます。"
      ]
    },
    {
      "cell_type": "code",
      "metadata": {
        "id": "8BR6LT2cL1u-",
        "colab_type": "code",
        "colab": {}
      },
      "source": [
        "X_columns = [ x for x in df.columns if x != y_column ]\n",
        "\n",
        "# トレーニングデータとテストデータに分けます。\n",
        "X_train, X_test, y_train, y_test = train_test_split(df[X_columns], df[y_column], test_size=0.2, random_state=0)"
      ],
      "execution_count": 0,
      "outputs": []
    },
    {
      "cell_type": "markdown",
      "metadata": {
        "id": "lEJpoWczgcFY",
        "colab_type": "text"
      },
      "source": [
        "### モデルを実行します。"
      ]
    },
    {
      "cell_type": "code",
      "metadata": {
        "id": "CJI2sSiGQ4NT",
        "colab_type": "code",
        "colab": {}
      },
      "source": [
        "from sklearn.model_selection import GridSearchCV\n",
        "\n",
        "def run_model(model):\n",
        "    global y_test, y_pred\n",
        "\n",
        "    if use_grid_search and type(model) in [ RandomForestRegressor, XGBRegressor, LGBMRegressor, CatBoostRegressor ]:\n",
        "        # グリッドサーチをする場合\n",
        "\n",
        "        model = GridSearchCV(model, {'max_depth': [2,4,6], 'n_estimators': [50,100,200]}, verbose=2, n_jobs=-1)\n",
        "\n",
        "    # トレーニングデータで学習します。\n",
        "    result = model.fit(X_train, y_train)\n",
        "\n",
        "    if hasattr(result, 'best_params_'):\n",
        "        # 最適なパラメータがある場合\n",
        "        \n",
        "        print ('best params =', result.best_params_)\n",
        "\n",
        "    # テストデータで予測します。\n",
        "    y_pred = model.predict(X_test)\n",
        "\n",
        "    # 平均二乗誤差を計算します。\n",
        "    accu1 = mean_squared_error(y_test, y_pred)\n",
        "    accu2 = mean_squared_error(y_test, [y_test.mean()] * len(y_test) )\n",
        "\n",
        "    # 平均絶対誤差を計算します。\n",
        "    accu3 = mean_absolute_error(y_test, y_pred)\n",
        "    accu4 = mean_absolute_error(y_test, [y_test.mean()] * len(y_test) )\n",
        "\n",
        "    print('\\n平均二乗誤差 : %.4f ( %.4f )  平均絶対誤差 : %.4f ( %.4f )    ※ カッコ内は全予測値を平均値で置き換えた場合\\n' % (accu1, accu2, accu3, accu4))    \n",
        "\n",
        "    if hasattr(model, 'feature_importances_'):\n",
        "        # 特徴量の重要度がある場合\n",
        "        \n",
        "        # 重要度の順にソートします。\n",
        "        sorted_idx_names = sorted(enumerate(model.feature_importances_), key=lambda x: x[1], reverse=True)\n",
        "\n",
        "        print('特徴量の重要度')\n",
        "        for i, (idx, x) in enumerate(sorted_idx_names[:20]):\n",
        "            print('    %2d %.05f %s' % (i, 100 * x, X_train.columns[idx]))\n",
        "\n",
        "\n",
        "    # 正解と予測を散布図に表示します。\n",
        "    sns.jointplot(y_test, y_pred, kind=\"reg\").set_axis_labels('正解', '予測')"
      ],
      "execution_count": 0,
      "outputs": []
    },
    {
      "cell_type": "markdown",
      "metadata": {
        "id": "ySvmySb3yEe8",
        "colab_type": "text"
      },
      "source": [
        "### リッジ回帰"
      ]
    },
    {
      "cell_type": "code",
      "metadata": {
        "id": "p3XrjyeZyE9g",
        "colab_type": "code",
        "colab": {}
      },
      "source": [
        "model = Ridge(alpha=.5) # 0.0668\n",
        "run_model(model)"
      ],
      "execution_count": 0,
      "outputs": []
    },
    {
      "cell_type": "markdown",
      "metadata": {
        "id": "ZKXRk3kTyFV6",
        "colab_type": "text"
      },
      "source": [
        "### サポートベクターマシン"
      ]
    },
    {
      "cell_type": "code",
      "metadata": {
        "id": "92e871EFyFkl",
        "colab_type": "code",
        "colab": {}
      },
      "source": [
        "model = SVR(kernel='rbf') # 0.0536\n",
        "run_model(model)"
      ],
      "execution_count": 0,
      "outputs": []
    },
    {
      "cell_type": "markdown",
      "metadata": {
        "id": "s59ErPLNyGC8",
        "colab_type": "text"
      },
      "source": [
        "### ランダムフォレスト"
      ]
    },
    {
      "cell_type": "code",
      "metadata": {
        "id": "6Sv2k1kSyGTP",
        "colab_type": "code",
        "colab": {}
      },
      "source": [
        "model = RandomForestRegressor(max_depth=6, n_estimators=200) # 0.0527\n",
        "run_model(model)"
      ],
      "execution_count": 0,
      "outputs": []
    },
    {
      "cell_type": "markdown",
      "metadata": {
        "id": "sHfLQEMRyGhe",
        "colab_type": "text"
      },
      "source": [
        "### XGBoost"
      ]
    },
    {
      "cell_type": "code",
      "metadata": {
        "id": "6o-2QpanyGw-",
        "colab_type": "code",
        "colab": {}
      },
      "source": [
        "model = XGBRegressor(max_depth=2, n_estimators=200) # 0.0538 \n",
        "run_model(model)"
      ],
      "execution_count": 0,
      "outputs": []
    },
    {
      "cell_type": "markdown",
      "metadata": {
        "id": "pP9btZmPyG-r",
        "colab_type": "text"
      },
      "source": [
        "### LightGBM"
      ]
    },
    {
      "cell_type": "code",
      "metadata": {
        "id": "fQaoaIhiyHLv",
        "colab_type": "code",
        "colab": {}
      },
      "source": [
        "model = LGBMRegressor(objective='regression', num_leaves = 31, max_depth=4, n_estimators=50)  # 0.0524 \n",
        "run_model(model)"
      ],
      "execution_count": 0,
      "outputs": []
    },
    {
      "cell_type": "markdown",
      "metadata": {
        "id": "bwobt9w6yHZZ",
        "colab_type": "text"
      },
      "source": [
        "### CatBoost"
      ]
    },
    {
      "cell_type": "code",
      "metadata": {
        "id": "xQk23vsqyHmk",
        "colab_type": "code",
        "colab": {}
      },
      "source": [
        "model = CatBoostRegressor(max_depth=2, n_estimators=200, verbose=0)  # 0.0530 \n",
        "run_model(model)"
      ],
      "execution_count": 0,
      "outputs": []
    }
  ]
}